{
 "cells": [
  {
   "cell_type": "code",
   "execution_count": 27,
   "metadata": {},
   "outputs": [],
   "source": [
    "import numpy as np\n",
    "import cv2\n",
    "from keras.preprocessing.image import ImageDataGenerator"
   ]
  },
  {
   "cell_type": "code",
   "execution_count": 28,
   "metadata": {},
   "outputs": [],
   "source": [
    "# Define an image data generator for data augmentation\n",
    "datagen = ImageDataGenerator(\n",
    "    rotation_range=10,\n",
    "    width_shift_range=0.1,\n",
    "    height_shift_range=0.1,\n",
    "    shear_range=0.1,\n",
    "    zoom_range=0.1,\n",
    "    fill_mode='nearest',\n",
    "    horizontal_flip=True,\n",
    "    vertical_flip=True,\n",
    "    rescale=1./255\n",
    ")"
   ]
  },
  {
   "cell_type": "code",
   "execution_count": 29,
   "metadata": {},
   "outputs": [],
   "source": [
    "# Define a function to preprocess an individual image\n",
    "def preprocess_image(image):\n",
    "    # Check the shape of the input image\n",
    "    print(image.shape)\n",
    "\n",
    "    # Resize the image to a smaller size\n",
    "    image = cv2.resize(image, (256, 256))\n",
    "\n",
    "    # Normalize the pixel values to a common scale\n",
    "    image = image / 255.\n",
    "\n",
    "    return image"
   ]
  },
  {
   "cell_type": "code",
   "execution_count": null,
   "metadata": {},
   "outputs": [],
   "source": []
  },
  {
   "cell_type": "code",
   "execution_count": 30,
   "metadata": {},
   "outputs": [],
   "source": [
    "def preprocess_image(image):\n",
    "    # Check the shape of the input image\n",
    "    print(image.shape)\n",
    "\n",
    "    # Convert the image to RGB if it has only one channel\n",
    "    if len(image.shape) == 2:\n",
    "        image = cv2.cvtColor(image, cv2.COLOR_GRAY2RGB)\n",
    "\n",
    "    # Resize the image to a smaller size\n",
    "    image = cv2.resize(image, (256, 256))\n",
    "\n",
    "    # Normalize the pixel values to a common scale\n",
    "    image = image / 255.\n",
    "\n",
    "    return image"
   ]
  },
  {
   "cell_type": "code",
   "execution_count": 31,
   "metadata": {},
   "outputs": [],
   "source": [
    "from keras.models import Sequential\n",
    "from keras.layers import Conv2D, MaxPooling2D, Flatten, Dense\n",
    "\n",
    "# Define the model architecture\n",
    "model = Sequential([\n",
    "    Conv2D(32, (3, 3), activation='relu', input_shape=(256, 256, 3)),\n",
    "    MaxPooling2D((2, 2)),\n",
    "    Conv2D(64, (3, 3), activation='relu'),\n",
    "    MaxPooling2D((2, 2)),\n",
    "    Conv2D(128, (3, 3), activation='relu'),\n",
    "    MaxPooling2D((2, 2)),\n",
    "    Flatten(),\n",
    "    Dense(128, activation='relu'),\n",
    "    Dense(1, activation='sigmoid')\n",
    "])\n",
    "\n",
    "# Compile the model with a loss function and optimizer\n",
    "model.compile(loss='binary_crossentropy', optimizer='adam', metrics=['accuracy'])"
   ]
  },
  {
   "cell_type": "code",
   "execution_count": 32,
   "metadata": {},
   "outputs": [
    {
     "name": "stdout",
     "output_type": "stream",
     "text": [
      "Found 253 images belonging to 2 classes.\n"
     ]
    }
   ],
   "source": [
    "# Load the image data from files\n",
    "train_datagen = ImageDataGenerator(\n",
    "    # Data augmentation settings and normalization\n",
    "    rescale=1./255\n",
    ")\n",
    "\n",
    "train_generator = train_datagen.flow_from_directory(\n",
    "    'brain_tumor_dataset',\n",
    "    target_size=(256, 256),\n",
    "    batch_size=32,\n",
    "    class_mode='binary'\n",
    ")"
   ]
  },
  {
   "cell_type": "code",
   "execution_count": 33,
   "metadata": {},
   "outputs": [
    {
     "name": "stdout",
     "output_type": "stream",
     "text": [
      "Found 253 images belonging to 2 classes.\n"
     ]
    }
   ],
   "source": [
    "train_datagen = ImageDataGenerator(\n",
    "    # data augmentation settings\n",
    "    rescale=1./255\n",
    ")\n",
    "# Load the image data from files\n",
    "train_generator = train_datagen.flow_from_directory(\n",
    "    'brain_tumor_dataset',\n",
    "    target_size=(256, 256),  # check that this is a valid tuple\n",
    "    batch_size=32,\n",
    "    class_mode='binary',\n",
    "    shuffle=True\n",
    ")"
   ]
  },
  {
   "cell_type": "code",
   "execution_count": 34,
   "metadata": {},
   "outputs": [
    {
     "name": "stdout",
     "output_type": "stream",
     "text": [
      "(256, 256, 3)\n",
      "(256, 256, 3)\n",
      "(256, 256, 3)\n",
      "(256, 256, 3)\n",
      "(256, 256, 3)\n",
      "(256, 256, 3)\n",
      "(256, 256, 3)\n",
      "(256, 256, 3)\n",
      "(256, 256, 3)\n",
      "(256, 256, 3)\n",
      "(256, 256, 3)\n",
      "(256, 256, 3)\n",
      "(256, 256, 3)\n",
      "(256, 256, 3)\n",
      "(256, 256, 3)\n",
      "(256, 256, 3)\n",
      "(256, 256, 3)\n",
      "(256, 256, 3)\n",
      "(256, 256, 3)\n",
      "(256, 256, 3)\n",
      "(256, 256, 3)\n",
      "(256, 256, 3)\n",
      "(256, 256, 3)\n",
      "(256, 256, 3)\n",
      "(256, 256, 3)\n",
      "(256, 256, 3)\n",
      "(256, 256, 3)\n",
      "(256, 256, 3)\n",
      "(256, 256, 3)\n",
      "(256, 256, 3)\n",
      "(256, 256, 3)\n",
      "(256, 256, 3)\n"
     ]
    }
   ],
   "source": [
    "# Preprocess the image data\n",
    "x_train, y_train = next(train_generator)\n",
    "x_train = np.array([preprocess_image(image) for image in x_train])"
   ]
  },
  {
   "cell_type": "code",
   "execution_count": 36,
   "metadata": {},
   "outputs": [
    {
     "name": "stdout",
     "output_type": "stream",
     "text": [
      "Epoch 1/20\n",
      "32/32 [==============================] - 3s 108ms/step - loss: 0.5236 - accuracy: 0.7188\n",
      "Epoch 2/20\n",
      "32/32 [==============================] - 3s 95ms/step - loss: 0.5088 - accuracy: 0.7188\n",
      "Epoch 3/20\n",
      "32/32 [==============================] - 3s 85ms/step - loss: 0.5009 - accuracy: 0.7188\n",
      "Epoch 4/20\n",
      "32/32 [==============================] - 3s 87ms/step - loss: 0.4851 - accuracy: 0.7188\n",
      "Epoch 5/20\n",
      "32/32 [==============================] - 3s 84ms/step - loss: 0.4549 - accuracy: 0.7188\n",
      "Epoch 6/20\n",
      "32/32 [==============================] - 3s 85ms/step - loss: 0.4362 - accuracy: 0.7188\n",
      "Epoch 7/20\n",
      "32/32 [==============================] - 3s 83ms/step - loss: 0.4405 - accuracy: 0.7188\n",
      "Epoch 8/20\n",
      "32/32 [==============================] - 3s 81ms/step - loss: 0.4235 - accuracy: 0.8125\n",
      "Epoch 9/20\n",
      "32/32 [==============================] - 3s 83ms/step - loss: 0.4270 - accuracy: 0.8438\n",
      "Epoch 10/20\n",
      "32/32 [==============================] - 3s 85ms/step - loss: 0.3969 - accuracy: 0.8750\n",
      "Epoch 11/20\n",
      "32/32 [==============================] - 3s 81ms/step - loss: 0.3915 - accuracy: 0.8438\n",
      "Epoch 12/20\n",
      "32/32 [==============================] - 3s 83ms/step - loss: 0.3818 - accuracy: 0.8438\n",
      "Epoch 13/20\n",
      "32/32 [==============================] - 3s 83ms/step - loss: 0.3556 - accuracy: 0.8750\n",
      "Epoch 14/20\n",
      "32/32 [==============================] - 3s 82ms/step - loss: 0.3485 - accuracy: 0.8750\n",
      "Epoch 15/20\n",
      "32/32 [==============================] - 3s 88ms/step - loss: 0.3329 - accuracy: 0.8750\n",
      "Epoch 16/20\n",
      "32/32 [==============================] - 3s 84ms/step - loss: 0.3151 - accuracy: 0.8438\n",
      "Epoch 17/20\n",
      "32/32 [==============================] - 3s 82ms/step - loss: 0.3002 - accuracy: 0.8438\n",
      "Epoch 18/20\n",
      "32/32 [==============================] - 3s 81ms/step - loss: 0.2746 - accuracy: 0.8750\n",
      "Epoch 19/20\n",
      "32/32 [==============================] - 3s 82ms/step - loss: 0.2540 - accuracy: 0.9375\n",
      "Epoch 20/20\n",
      "32/32 [==============================] - 3s 88ms/step - loss: 0.2349 - accuracy: 0.9375\n"
     ]
    },
    {
     "data": {
      "text/plain": [
       "<keras.callbacks.callbacks.History at 0x19b818b93c8>"
      ]
     },
     "execution_count": 36,
     "metadata": {},
     "output_type": "execute_result"
    }
   ],
   "source": [
    "# Train the model on the preprocessed data\n",
    "model.fit(x_train, y_train, epochs=20) "
   ]
  },
  {
   "cell_type": "code",
   "execution_count": 37,
   "metadata": {},
   "outputs": [],
   "source": [
    "# Save the trained model to a file\n",
    "model.save('preprocessingKerasModel1.h5')"
   ]
  }
 ],
 "metadata": {
  "kernelspec": {
   "display_name": "Python 3",
   "language": "python",
   "name": "python3"
  },
  "language_info": {
   "codemirror_mode": {
    "name": "ipython",
    "version": 3
   },
   "file_extension": ".py",
   "mimetype": "text/x-python",
   "name": "python",
   "nbconvert_exporter": "python",
   "pygments_lexer": "ipython3",
   "version": "3.7.6"
  }
 },
 "nbformat": 4,
 "nbformat_minor": 4
}
