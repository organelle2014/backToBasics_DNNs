{
 "cells": [
  {
   "cell_type": "code",
   "execution_count": 30,
   "metadata": {},
   "outputs": [],
   "source": [
    "#import necessary modules\n",
    "import cv2\n",
    "import numpy as np\n",
    "import tensorflow.keras as keras"
   ]
  },
  {
   "cell_type": "code",
   "execution_count": 31,
   "metadata": {},
   "outputs": [],
   "source": [
    "# Load and resize the new image\n",
    "img = cv2.imread('test.jpg')\n",
    "img = cv2.resize(img, (256, 256))\n",
    "\n",
    "# Preprocess the image\n",
    "img = img / 255.0  # Normalize the pixel values\n",
    "img = np.expand_dims(img, axis=0)  # Add an extra dimension for the batch size"
   ]
  },
  {
   "cell_type": "code",
   "execution_count": 32,
   "metadata": {},
   "outputs": [],
   "source": [
    "from tensorflow.keras.models import load_model\n",
    "\n",
    "# Load the saved model from a file\n",
    "model = load_model('preprocessingKerasModel1.h5')"
   ]
  },
  {
   "cell_type": "code",
   "execution_count": 33,
   "metadata": {},
   "outputs": [
    {
     "name": "stdout",
     "output_type": "stream",
     "text": [
      "The image is classified as NOT a brain tumor.\n"
     ]
    }
   ],
   "source": [
    "# Load and compile the trained model\n",
    "model = keras.models.load_model('preprocessingKerasModel1.h5')\n",
    "model.compile(loss='binary_crossentropy', optimizer='adam', metrics=['accuracy'])\n",
    "\n",
    "# Make a prediction on the preprocessed image\n",
    "prediction = model.predict(img)\n",
    "\n",
    "# Print the predicted class label (0 or 1)\n",
    "if prediction > 0.5:\n",
    "    print('The image is classified as a BRAIN TUMOR.')\n",
    "else:\n",
    "    print('The image is classified as NOT a brain tumor.')"
   ]
  },
  {
   "cell_type": "code",
   "execution_count": null,
   "metadata": {},
   "outputs": [],
   "source": []
  }
 ],
 "metadata": {
  "kernelspec": {
   "display_name": "Python 3",
   "language": "python",
   "name": "python3"
  },
  "language_info": {
   "codemirror_mode": {
    "name": "ipython",
    "version": 3
   },
   "file_extension": ".py",
   "mimetype": "text/x-python",
   "name": "python",
   "nbconvert_exporter": "python",
   "pygments_lexer": "ipython3",
   "version": "3.7.6"
  }
 },
 "nbformat": 4,
 "nbformat_minor": 4
}
