{
 "cells": [
  {
   "cell_type": "code",
   "execution_count": 19,
   "metadata": {},
   "outputs": [],
   "source": [
    "#this works for image datasets\n",
    "#starting up we need to import data\n",
    "import numpy as np\n",
    "import matplotlib.pyplot as plt\n",
    "import os\n",
    "import nibabel as nib\n",
    "import matplotlib.pyplot as plt\n",
    "%matplotlib inline"
   ]
  },
  {
   "cell_type": "code",
   "execution_count": null,
   "metadata": {},
   "outputs": [],
   "source": [
    "#load the dataset\n",
    "your_data = '/path/to/your/dataset';"
   ]
  },
  {
   "cell_type": "code",
   "execution_count": null,
   "metadata": {},
   "outputs": [],
   "source": [
    "# Load the Your scans and labels from the dataset files\n",
    "your_path = os.path.join(your_data, 'mri.nii.gz')\n",
    "label_path = os.path.join(your_data, 'label.nii.gz')\n",
    "your_img = nib.load(your_path).get_fdata()\n",
    "label_img = nib.load(label_path).get_fdata()\n"
   ]
  },
  {
   "cell_type": "code",
   "execution_count": null,
   "metadata": {},
   "outputs": [],
   "source": [
    "# Split the data into training and testing sets\n",
    "num_samples = your.shape[-1]\n",
    "num_train_samples = int(0.8 * num_samples)\n",
    "train_indices = np.random.choice(num_samples, size=num_train_samples, replace=False)\n",
    "test_indices = np.setdiff1d(np.arange(num_samples), train_indices)\n",
    "x_train = your_img[..., train_indices]\n",
    "y_train = label_img[..., train_indices]\n",
    "x_test = your_img[..., test_indices]\n",
    "y_test = label_img[..., test_indices]"
   ]
  },
  {
   "cell_type": "code",
   "execution_count": null,
   "metadata": {},
   "outputs": [],
   "source": [
    "# Train the model and collect the training and validation loss\n",
    "history = model.fit(x_train, y_train, validation_data=(x_test, y_test), epochs=10)\n",
    "train_loss = history.history['loss']\n",
    "val_loss = history.history['val_loss']"
   ]
  },
  {
   "cell_type": "code",
   "execution_count": null,
   "metadata": {},
   "outputs": [],
   "source": [
    "# Plot the training and validation loss\n",
    "plt.plot(train_loss, label='Training Loss')\n",
    "plt.plot(val_loss, label='Validation Loss')\n",
    "plt.xlabel('Epoch')\n",
    "plt.ylabel('Loss')\n",
    "plt.legend()\n",
    "plt.show()"
   ]
  }
 ],
 "metadata": {
  "kernelspec": {
   "display_name": "Python 3",
   "language": "python",
   "name": "python3"
  },
  "language_info": {
   "codemirror_mode": {
    "name": "ipython",
    "version": 3
   },
   "file_extension": ".py",
   "mimetype": "text/x-python",
   "name": "python",
   "nbconvert_exporter": "python",
   "pygments_lexer": "ipython3",
   "version": "3.7.6"
  }
 },
 "nbformat": 4,
 "nbformat_minor": 4
}
